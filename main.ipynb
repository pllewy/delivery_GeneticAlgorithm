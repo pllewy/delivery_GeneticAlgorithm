{
 "cells": [
  {
   "metadata": {},
   "cell_type": "markdown",
   "source": "# Genetic Algorithm for Truck Routing Problem",
   "id": "5d58191fadbfafba"
  },
  {
   "metadata": {},
   "cell_type": "markdown",
   "source": [
    "Implementation of genetic algorithm for solving the truck routing problem. \n",
    "\n",
    "The problem is defined as follows:\n",
    "- There are n orders that need to be delivered by a truck.\n",
    "- There are m fuel stations where the truck can refuel.\n",
    "- The truck starts at the base and needs to visit all orders in the most efficient way.\n",
    "- The truck has a limited fuel tank capacity and needs to refuel at stations.\n",
    "- The goal is to minimize the total cost of the route, including fuel costs and penalties for running out of fuel.\n",
    "- The truck can carry multiple orders at once, but the total mass cannot exceed the truck's capacity.\n",
    "- The truck can only refuel at stations, not during the route.\n",
    "- The orders and fuel stations are randomly generated and have random locations and weights.\n",
    "- The fuel consumption is proportional to the total mass of the truck.\n",
    "- The fuel price varies between stations.\n",
    "- The base location is fixed at coordinates (0, 0).\n",
    "\n",
    "GENERAL STRATEGY:\n",
    "- generate population\n",
    "- evaluate population\n",
    "- selection\n",
    "- crossover\n",
    "- mutation\n",
    "- repeat until convergence\n",
    "\n",
    "All the parameters of the problem are defined in the last cells of this notebook. "
   ],
   "id": "82741826c5925e06"
  },
  {
   "metadata": {},
   "cell_type": "markdown",
   "source": "",
   "id": "701cd7d0d700a397"
  },
  {
   "metadata": {
    "ExecuteTime": {
     "end_time": "2024-06-18T12:00:16.816686Z",
     "start_time": "2024-06-18T12:00:16.807003Z"
    }
   },
   "cell_type": "code",
   "source": [
    "# Importing necessary libraries\n",
    "import numpy as np\n",
    "import pandas as pd\n",
    "import random\n",
    "import string\n",
    "import matplotlib.pyplot as plt"
   ],
   "id": "bf8f05aae943d1b8",
   "outputs": [],
   "execution_count": 451
  },
  {
   "metadata": {},
   "cell_type": "markdown",
   "source": "## Generate starting population",
   "id": "ac7adc95f0c8d032"
  },
  {
   "cell_type": "code",
   "source": [
    "def generate_starting_population( df_stations, df_orders, population_size=10, print_results=False):\n",
    "    original_list = df_orders.index.tolist()\n",
    "    \n",
    "    n_stations = len(df_stations)\n",
    "    population = []\n",
    "        \n",
    "    for i in range(population_size):\n",
    "        sample = [0]\n",
    "        random_permutation = random.sample(original_list, len(original_list))\n",
    "        \n",
    "        for j in range(len(random_permutation)):\n",
    "            sample.append(random_permutation[j])\n",
    "            \n",
    "            if j != len(random_permutation)-1:\n",
    "                if random.randint(0, 1) == 1:\n",
    "                    station_ID = random.randint(1, n_stations-1)\n",
    "                else:\n",
    "                    station_ID = 1\n",
    "        \n",
    "                sample.append(station_ID)\n",
    "        # print(sample)\n",
    "        sample.append(0)\n",
    "        population.append(sample)\n",
    "        \n",
    "    if print_results:\n",
    "        # print(f\"Permutacja: {original_list}\")\n",
    "        print(\"STARTING POPULATION\")\n",
    "        for j in population:\n",
    "            print(j)\n",
    "        print(\"\\n\")\n",
    "    return population"
   ],
   "metadata": {
    "collapsed": false,
    "ExecuteTime": {
     "end_time": "2024-06-18T12:00:17.034358Z",
     "start_time": "2024-06-18T12:00:17.012357Z"
    }
   },
   "id": "c954e1e80411453b",
   "outputs": [],
   "execution_count": 452
  },
  {
   "metadata": {},
   "cell_type": "markdown",
   "source": "## Evaluate population",
   "id": "69185ec348247732"
  },
  {
   "cell_type": "code",
   "source": [
    "def evaluate_step(a, b, current_mass, fuel_level, fuel_penalty=1000, max_fuel=150, print_results=False):\n",
    "\n",
    "    step_cost = 0\n",
    "    \n",
    "    # city - city -> no station\n",
    "    if isinstance(a, str) & isinstance(b, str):\n",
    "        \n",
    "        distance = (abs(df_orders.loc[a, 'longitude'] - df_orders.loc[b, 'longitude']) + \n",
    "                    abs(df_orders.loc[a, 'latitude'] - df_orders.loc[b, 'latitude']))\n",
    "\n",
    "        fuel_level = fuel_level - distance * fuel_consumption(current_mass)\n",
    "        \n",
    "        \n",
    "        if fuel_level < 0:\n",
    "            step_cost += fuel_penalty\n",
    "            # print(\"YOU RAN OUT OF FUEL!\")\n",
    "            \n",
    "        current_mass += df_orders.loc[b, 'mass']\n",
    "        \n",
    "        if print_results:\n",
    "            print(f\"City {a} to city {b}. Distance: {distance} km\")\n",
    "            print(f\"{df_orders.loc[b, 'mass']} kg has been loaded. We have {current_mass} on truck\")\n",
    "            print(\"fuel_level: \", fuel_level)\n",
    "\n",
    "            \n",
    "        \n",
    "    elif isinstance(a, str):\n",
    "\n",
    "        if b != 1:\n",
    "            if b == 0:\n",
    "                df_stations.loc[b, 'latitude'] = float(0)\n",
    "                df_stations.loc[b, 'longitude'] = float(0)\n",
    "                df_stations.loc[b, 'price'] = 5.17\n",
    "    \n",
    "            distance = (abs(df_orders.loc[a, 'longitude'] - df_stations.loc[b, 'longitude']) + \n",
    "                        abs(df_orders.loc[a, 'latitude'] - df_stations.loc[b, 'latitude']))\n",
    "    \n",
    "            fuel_level = fuel_level - distance * fuel_consumption(current_mass)\n",
    "    \n",
    "            # print(\"fuel_level: \", fuel_level)\n",
    "    \n",
    "            if fuel_level < 0:\n",
    "                step_cost += fuel_penalty\n",
    "                # print(\"YOU RAN OUT OF FUEL!\")\n",
    "                \n",
    "    \n",
    "            step_cost += df_stations.loc[b, 'price'] * (max_fuel - fuel_level)\n",
    "    \n",
    "            if print_results:\n",
    "                print(f\"City {a} to station {b}. Distance: {distance} km\")\n",
    "                print(f\"Refueled {(max_fuel - fuel_level)} liters for {df_stations.loc[b, 'price'] * (max_fuel - fuel_level)} PLN\" )\n",
    "                print(\"current_mass: \", current_mass)\n",
    "                \n",
    "            fuel_level = max_fuel\n",
    "\n",
    "    # Station to city        \n",
    "    else:\n",
    "        \n",
    "        if a == 0:\n",
    "            df_stations.loc[a, 'latitude'] = float(0)\n",
    "            df_stations.loc[a, 'longitude'] = float(0)\n",
    "        \n",
    "        distance = (abs(df_stations.loc[a, 'longitude'] - df_orders.loc[b, 'longitude']) + \n",
    "                    abs(df_stations.loc[a, 'latitude'] - df_orders.loc[b, 'latitude']))\n",
    "\n",
    "        fuel_level = fuel_level - distance * fuel_consumption(current_mass)\n",
    "        \n",
    "        if fuel_level < 0:\n",
    "            step_cost += fuel_penalty\n",
    "            # print(\"YOU RAN OUT OF FUEL!\")\n",
    "            \n",
    "        current_mass += df_orders.loc[b, 'mass']\n",
    "        \n",
    "        if print_results:\n",
    "            print(f\"Station {a} to city {b}. Distance: {distance} km\")\n",
    "            print(f\"{df_orders.loc[b, 'mass']} kg has been loaded. We have {current_mass} on truck\")\n",
    "            print(\"fuel_level: \", fuel_level)\n",
    "\n",
    "    return current_mass, fuel_level, step_cost\n"
   ],
   "metadata": {
    "collapsed": false,
    "ExecuteTime": {
     "end_time": "2024-06-18T12:00:17.049357Z",
     "start_time": "2024-06-18T12:00:17.035357Z"
    }
   },
   "id": "6263f1cb37c327e",
   "outputs": [],
   "execution_count": 453
  },
  {
   "cell_type": "code",
   "source": [
    "def evaluate_case(sample, print_results=False):\n",
    "    total_cost = 0\n",
    "    fuel_level = 150\n",
    "    current_mass = 1\n",
    "\n",
    "    if print_results:\n",
    "        print(\"STARTING EVALUATION\")\n",
    "        print(f\"START FUEL: {fuel_level}\")\n",
    "        print(f\"sample: {sample}\")    \n",
    "\n",
    "    for i in range(len(sample)-1):\n",
    "        \n",
    "        if sample[i] == 1:\n",
    "            current_mass, fuel_level, step_cost = evaluate_step(sample[i-1], sample[i+1], current_mass, fuel_level)\n",
    "        else:\n",
    "            current_mass, fuel_level, step_cost = evaluate_step(sample[i], sample[i+1], current_mass, fuel_level)\n",
    "        \n",
    "        total_cost += step_cost\n",
    "        if print_results:\n",
    "            print(f\"Step {i}: {step_cost}\")\n",
    "            print(f\"Current cost: {total_cost}\")\n",
    "    \n",
    "    \n",
    "    return total_cost"
   ],
   "metadata": {
    "collapsed": false,
    "ExecuteTime": {
     "end_time": "2024-06-18T12:00:17.079356Z",
     "start_time": "2024-06-18T12:00:17.059359Z"
    }
   },
   "id": "13479ae884fbf5b4",
   "outputs": [],
   "execution_count": 454
  },
  {
   "cell_type": "code",
   "source": [
    "def evaluate_population(population, print_results=False):\n",
    "    population_results = {'samples': population, 'costs': []}\n",
    "    top_samples = []\n",
    "    \n",
    "    for sample in population:\n",
    "        population_results['costs'].append(evaluate_case(sample))\n",
    "        \n",
    "    # Extract samples and costs\n",
    "    samples = population_results['samples']\n",
    "    costs = population_results['costs']\n",
    "    \n",
    "    # Pair each sample with its corresponding cost\n",
    "    paired_samples_costs = list(zip(samples, costs))\n",
    "    \n",
    "    # Sort the pairs by the cost (second element in each pair)\n",
    "    sorted_pairs = sorted(paired_samples_costs, key=lambda x: x[1])\n",
    "    \n",
    "    # Extract the top 3 samples\n",
    "    top_samples = [item for item in sorted_pairs[:3]]\n",
    "\n",
    "    if print_results:\n",
    "        for i in range(len(top_samples)):\n",
    "            print(f\"{top_samples[i][0]} results: {top_samples[i][1]}\")\n",
    "    \n",
    "    return population_results, top_samples\n"
   ],
   "metadata": {
    "collapsed": false,
    "ExecuteTime": {
     "end_time": "2024-06-18T12:10:01.813152Z",
     "start_time": "2024-06-18T12:10:01.793713Z"
    }
   },
   "id": "2e4598fff7c15d18",
   "outputs": [],
   "execution_count": 594
  },
  {
   "metadata": {},
   "cell_type": "markdown",
   "source": "## Selection",
   "id": "191a3b992bedde92"
  },
  {
   "cell_type": "code",
   "source": [
    "def selection_tournament(population_results, k=2, n=10):\n",
    "    # population_results - populacja podana w formie słownika z wartościami funkcji kosztu\n",
    "    # parametr k - wielkość próbki (wielkość turnieju)\n",
    "    # parametr n - liczba osobników do wyselekcjonowania\n",
    "    selected_individuals = []\n",
    "    population_size = len(population_results['samples'])\n",
    "\n",
    "    for _ in range(n):\n",
    "        # Losowo wybierz indeksy osobników do turnieju\n",
    "        tournament_indices = random.sample(range(population_size), k)\n",
    "        \n",
    "        # Znajdź najlepszy osobnik w turnieju\n",
    "        best_index = tournament_indices[0]\n",
    "        for idx in tournament_indices:\n",
    "            if population_results['costs'][idx] < population_results['costs'][best_index]:\n",
    "                best_index = idx\n",
    "        \n",
    "        # Dodaj wybranego osobnika do listy wybranych osobników\n",
    "        selected_individuals.append(population_results['samples'][best_index])\n",
    "    \n",
    "    return selected_individuals\n",
    "    "
   ],
   "metadata": {
    "collapsed": false,
    "ExecuteTime": {
     "end_time": "2024-06-18T12:00:17.155601Z",
     "start_time": "2024-06-18T12:00:17.150207Z"
    }
   },
   "id": "308832851bd55c90",
   "outputs": [],
   "execution_count": 456
  },
  {
   "metadata": {
    "ExecuteTime": {
     "end_time": "2024-06-18T12:00:17.218052Z",
     "start_time": "2024-06-18T12:00:17.210882Z"
    }
   },
   "cell_type": "code",
   "source": [
    "import random\n",
    "\n",
    "def selection_by_probability(population_results):\n",
    "    \n",
    "    n = len(population_results['samples'])\n",
    "    selected_population = []\n",
    "    \n",
    "    max_cost = max(population_results['costs'])\n",
    "    # print(f\"max_cost: {max_cost}\")\n",
    "    min_cost = min(population_results['costs'])    \n",
    "    # print(f\"min_cost: {min_cost}\")\n",
    "    \n",
    "    if max_cost == min_cost:\n",
    "        return population_results['samples'], True\n",
    "    else:\n",
    "        for i in range(n):\n",
    "            # Calculate the decision probability\n",
    "    \n",
    "            # If max cost = 100, and cost = 1, then decision_probability = 0.99\n",
    "            # If max cost = 100, and cost = 100, then decision_probability = 0\n",
    "            decision_probability = 1 -  ( population_results['costs'][i] - min_cost ) / ( max_cost - min_cost + 1e-6 )\n",
    "            # print(f\"decision_probability: {decision_probability}\")\n",
    "            \n",
    "            # Generate a random number and decide based on the decision probability\n",
    "            if random.random() < decision_probability:\n",
    "                selected_population.append(population_results['samples'][i])\n",
    "    \n",
    "    \n",
    "    \n",
    "    return selected_population, False\n",
    "\n",
    "\n",
    "assert (selection_by_probability({'samples': [1, 2, 3, 4], 'costs': [10, 20, 30, 40]}) == \n",
    "        ([1, 2, 3], False) or \n",
    "        ([1, 2, 4], False) or \n",
    "        ([1, 3, 4], False) or \n",
    "        ([2, 3, 4], False))\n"
   ],
   "id": "8caa5128e8f8cb18",
   "outputs": [],
   "execution_count": 457
  },
  {
   "metadata": {},
   "cell_type": "markdown",
   "source": [
    "## Cross-over\n",
    "\n"
   ],
   "id": "2df56c8af6347f67"
  },
  {
   "metadata": {
    "ExecuteTime": {
     "end_time": "2024-06-18T12:00:17.265048Z",
     "start_time": "2024-06-18T12:00:17.248049Z"
    }
   },
   "cell_type": "code",
   "source": [
    "# WARNING  - MIN 2 STATIONS\n",
    "\n",
    "def cross_over(parent1, parent2, random_crossover_point=True, print_results=False):\n",
    "    # parent1, parent2 - crossover parents\n",
    "    # Return a child\n",
    "    \n",
    "    # Select a random crossover point\n",
    "    if random_crossover_point:\n",
    "        crossover_point_1 = random.randint(1, len(parent1)-2)\n",
    "        crossover_point_2 = random.randint(crossover_point_1 + 1, len(parent1) - 1)\n",
    "    else:\n",
    "        crossover_point_1 = 3\n",
    "        crossover_point_2 = 5\n",
    "    \n",
    "    if print_results:\n",
    "        print(f\"Cross-over points: {crossover_point_1}, {crossover_point_2}\")\n",
    "    \n",
    "    child1 = parent1.copy()\n",
    "    \n",
    "    for i in range(len(parent1)):\n",
    "        if i%2 != 0:\n",
    "            if i >= crossover_point_1 and i <= crossover_point_2:\n",
    "                if print_results:\n",
    "                    print(f\"\\nCross-over at {i} place\")\n",
    "                original_spot_value = child1[i]\n",
    "                to_insert = parent2[i]\n",
    "                \n",
    "                if print_results:\n",
    "                    print(f\"original_spot_value: {original_spot_value}\")\n",
    "                    print(f\"to_insert: {to_insert}\")\n",
    "                \n",
    "                taken_spot_index = child1.index(to_insert)\n",
    "                taken_spot_value = child1[taken_spot_index]\n",
    "                \n",
    "                if print_results:\n",
    "                    print(f\"taken_spot_index: {taken_spot_index}, taken_spot_value: {taken_spot_value}\")\n",
    "                \n",
    "                for k in range(len(parent1)):\n",
    "                    if taken_spot_index >= crossover_point_1 and taken_spot_index < crossover_point_2:\n",
    "                        taken_spot_value = child1[taken_spot_index]\n",
    "                        taken_spot_index = child1.index(taken_spot_value)\n",
    "                        \n",
    "                        if taken_spot_value == parent2[taken_spot_index]:\n",
    "                            break\n",
    "                    else:\n",
    "                        break\n",
    "                    \n",
    "                    if print_results:\n",
    "                        print(f\"taken_spot_index: {taken_spot_index}, taken_spot_value: {taken_spot_value}\")\n",
    "                    \n",
    "                child1[taken_spot_index] = original_spot_value\n",
    "                \n",
    "                #TODO - between crossover points get stations from second parent\n",
    "                \n",
    "                child1[i] = to_insert\n",
    "                \n",
    "    return child1\n",
    "\n",
    "# HAPPY PATH\n",
    "assert cross_over([0, 1, 0, 2, 0, 3, 0, 4, 0, 5, 0, 6, 0], [0, 6, 0, 5, 0, 4, 0, 3, 0, 2, 0, 1, 0], random_crossover_point=False) == [0, 1, 0, 5, 0, 4, 0, 3, 0, 2, 0, 6, 0]\n",
    "assert cross_over([0, 6, 0, 5, 0, 4, 0, 3, 0, 2, 0, 1, 0], [0, 1, 0, 2, 0, 3, 0, 4, 0, 5, 0, 6, 0], random_crossover_point=False) == [0, 6, 0, 2, 0, 3, 0, 4, 0, 5, 0, 1, 0]\n",
    "\n",
    "# SIMPLEST PATH\n",
    "assert cross_over([0, 1, 0, 2, 0, 3, 0, 4, 0, 5, 0, 6, 0], [0, 1, 0, 2, 0, 3, 0, 4, 0, 5, 0, 6, 0], random_crossover_point=False) == [0, 1, 0, 2, 0, 3, 0, 4, 0, 5, 0, 6, 0]\n",
    "\n",
    "# HARD PATH\n",
    "assert cross_over([0, 1, 0, 2, 0, 3, 0, 4, 0, 5, 0, 6, 0], [0, 6, 0, 1, 0, 2, 0, 3, 0, 4, 0, 5, 0], random_crossover_point=False) == [0, 3, 0, 1, 0, 2, 0, 4, 0, 5, 0, 6, 0]\n",
    "assert cross_over([0, 6, 0, 1, 0, 2, 0, 3, 0, 4, 0, 5, 0], [0, 1, 0, 2, 0, 3, 0, 4, 0, 5, 0, 6, 0], random_crossover_point=False) == [0, 6, 0, 2, 0, 3, 0, 1, 0, 4, 0, 5, 0]"
   ],
   "id": "62abaa1e43d86cc6",
   "outputs": [],
   "execution_count": 458
  },
  {
   "metadata": {
    "ExecuteTime": {
     "end_time": "2024-06-18T12:00:17.312262Z",
     "start_time": "2024-06-18T12:00:17.295114Z"
    }
   },
   "cell_type": "code",
   "source": [
    "def crossover_population(selected_population):\n",
    "    random.shuffle(selected_population)\n",
    "    crossover_population = []\n",
    "    \n",
    "    for i in range(len(selected_population)//2):\n",
    "        child1 = cross_over(selected_population[i], selected_population[len(selected_population)-i-1])\n",
    "        child2 = cross_over(selected_population[len(selected_population)-i-1], selected_population[i])\n",
    "        crossover_population.append(child1)\n",
    "        crossover_population.append(child2)\n",
    "        \n",
    "    return crossover_population"
   ],
   "id": "8a3d913a52362db2",
   "outputs": [],
   "execution_count": 459
  },
  {
   "metadata": {
    "ExecuteTime": {
     "end_time": "2024-06-18T12:00:17.327264Z",
     "start_time": "2024-06-18T12:00:17.318265Z"
    }
   },
   "cell_type": "code",
   "source": [
    "def crossover_population_prob(selected_population, population_size=int(0.9*10)):\n",
    "    \n",
    "    crossover_population = selected_population\n",
    "    starting_len = len(selected_population)\n",
    "    \n",
    "    for i in range(population_size - starting_len):\n",
    "        random1 = random.randint(0, len(selected_population)-1)\n",
    "        random2 = random.randint(0, len(selected_population)-1)\n",
    "        \n",
    "        child = cross_over(crossover_population[random1], crossover_population[random2])\n",
    "        crossover_population.append(child)\n",
    "    \n",
    "    return crossover_population"
   ],
   "id": "b198f31819504d1d",
   "outputs": [],
   "execution_count": 460
  },
  {
   "metadata": {},
   "cell_type": "markdown",
   "source": "## Mutation",
   "id": "7b7e154b76bcb20e"
  },
  {
   "metadata": {
    "ExecuteTime": {
     "end_time": "2024-06-18T12:00:17.374263Z",
     "start_time": "2024-06-18T12:00:17.360267Z"
    }
   },
   "cell_type": "code",
   "source": [
    "def mutate_in_place(pop, prob_switch, prob_station):\n",
    "    for i in range(1, len(pop)-2):\n",
    "        dice_roll = random.random()\n",
    "        if i%2 == 0:\n",
    "            if dice_roll <= prob_station:\n",
    "                roll2 = random.random()\n",
    "                if roll2 < 0.5:\n",
    "                    pop[i] = 0\n",
    "                else:\n",
    "                    pop[i] = random.randint(2, len(df_stations))\n",
    "        else:\n",
    "            if dice_roll <= prob_switch:\n",
    "                if i > 1:\n",
    "                    temp = pop[i-2]\n",
    "                    pop[i-2] = pop[i]\n",
    "                    pop[i] = temp\n",
    "    return pop\n",
    "            "
   ],
   "id": "f101a47f852d31f6",
   "outputs": [],
   "execution_count": 461
  },
  {
   "cell_type": "code",
   "source": [
    "import random\n",
    "    \n",
    "def mutate_prob(population, population_size=10, print_results=False):\n",
    "    starting_len = len(population)\n",
    "    \n",
    "    for i in range(population_size - starting_len):\n",
    "        chosen_case_index = random.randint(0, starting_len)\n",
    "        chosen_case = population[chosen_case_index]\n",
    "\n",
    "        # Parameters for the Gaussian distribution\n",
    "        mean = starting_len/2\n",
    "        std_dev = mean/3\n",
    "        no_of_mutations = round(random.gauss(mean, std_dev))\n",
    "        \n",
    "        if print_results:\n",
    "            print(\"no_of_mutations: \", no_of_mutations)\n",
    "        \n",
    "        random_swaps = []\n",
    "        for j in range(no_of_mutations):\n",
    "            mutation_index = random.randint(1, len(chosen_case)-2)\n",
    "            \n",
    "            if mutation_index %2 == 0:\n",
    "                if random.random() < 0.25:\n",
    "                    chosen_case[mutation_index] = 1\n",
    "                else:\n",
    "                    chosen_case[mutation_index] = random.randint(0, n_stations) + 2\n",
    "            else:\n",
    "                random_swaps.append(mutation_index)\n",
    "                    \n",
    "        for j in range(len(random_swaps)//2):\n",
    "            chosen_case[random_swaps[j]], chosen_case[random_swaps[len(random_swaps) - j - 1]] = chosen_case[random_swaps[len(random_swaps) - j - 1]], chosen_case[random_swaps[j]]\n",
    "            \n",
    "        population.append(chosen_case)\n",
    "\n",
    "    return population\n",
    "        \n",
    "    \n",
    "                "
   ],
   "metadata": {
    "collapsed": false,
    "ExecuteTime": {
     "end_time": "2024-06-18T12:12:33.061119Z",
     "start_time": "2024-06-18T12:12:33.053964Z"
    }
   },
   "id": "c57da85c6e76d817",
   "outputs": [],
   "execution_count": 650
  },
  {
   "metadata": {
    "ExecuteTime": {
     "end_time": "2024-06-18T12:00:17.451635Z",
     "start_time": "2024-06-18T12:00:17.442636Z"
    }
   },
   "cell_type": "code",
   "source": [
    "def GA_tournament(start_population, max_generations):\n",
    "    pop = start_population\n",
    "    for generation in range(max_generations):\n",
    "        evaluated_pop, _ = evaluate_population(pop, print_results=False)\n",
    "        selected_pop = selection_tournament(evaluated_pop, 2, len(pop))\n",
    "        crossed_pop = crossover_population(selected_pop)\n",
    "        mutated_pop = mutate_in_place(crossed_pop, 0.05, 0.1)\n",
    "        pop = mutated_pop\n",
    "    \n",
    "    final_evaluated_pop = evaluate_population(pop, print_results=False)\n",
    "        \n",
    "    # Sortowanie słownika według wartości w porządku malejącym\n",
    "    sorted_items = sorted(final_evaluated_pop.items(), key=lambda item: item[1], reverse=True)\n",
    "    # sorted_items = sorted(pop.items(), key=lambda item: item[1], reverse=True)\n",
    "\n",
    "\n",
    "    # Wybór 10 kluczy o największych wartościach\n",
    "    top_10_keys = [item[0] for item in sorted_items[:10]]\n",
    "    \n",
    "    print(\"Najlepsze 10 rozwiązań:\")\n",
    "    # Wyświetlenie 10 kluczy\n",
    "    print(top_10_keys)\n",
    "        "
   ],
   "id": "4cafe048e6de8e18",
   "outputs": [],
   "execution_count": 463
  },
  {
   "metadata": {
    "ExecuteTime": {
     "end_time": "2024-06-18T12:00:17.498056Z",
     "start_time": "2024-06-18T12:00:17.483638Z"
    }
   },
   "cell_type": "code",
   "source": [
    "def GA_prob(start_population, max_generations, population_size=10, print_results=False):\n",
    "    \n",
    "    population = start_population\n",
    "\n",
    "    sample_history = []\n",
    "\n",
    "    for generation in range(max_generations):\n",
    "        if print_results:\n",
    "            print(f\"GENERATION: {generation}\")\n",
    "            \n",
    "        population_evaluated, top_samples = evaluate_population(population, print_results=print_results)\n",
    "        sample_history.append(top_samples)\n",
    "        selected_pop, break_flag = selection_by_probability(population_evaluated)\n",
    "        crossed_pop  = crossover_population_prob(selected_pop, population_size)\n",
    "        mutated_pop = mutate_prob(crossed_pop, population_size)\n",
    "        population = mutated_pop\n",
    "        \n",
    "        if break_flag:\n",
    "            break\n",
    "        \n",
    "    if print_results:\n",
    "        print(f\"FINAL GENERATION\")\n",
    "    \n",
    "    final_evaluated_pop, top_samples = evaluate_population(population, print_results=print_results)\n",
    "    \n",
    "    sample_history.append(top_samples)\n",
    "    \n",
    "    return final_evaluated_pop, sample_history"
   ],
   "id": "c3dda24b6e53f993",
   "outputs": [],
   "execution_count": 464
  },
  {
   "metadata": {},
   "cell_type": "markdown",
   "source": "## Plot scores",
   "id": "d7dbfc982b1bc7b3"
  },
  {
   "metadata": {
    "ExecuteTime": {
     "end_time": "2024-06-18T12:10:10.062868Z",
     "start_time": "2024-06-18T12:10:10.046875Z"
    }
   },
   "cell_type": "code",
   "source": [
    "import matplotlib.pyplot as plt\n",
    "\n",
    "def plot_scores(sample_history):\n",
    "\n",
    "    # Extract scores for each generation\n",
    "    generations = list(range(0, len(sample_history)))\n",
    "    scores = [list(zip(*gen))[1] for gen in sample_history]\n",
    "    \n",
    "    # Plotting\n",
    "    plt.figure(figsize=(10, 6))\n",
    "    # Assuming there are always 3 tuples in each generation\n",
    "    plt.plot(generations, [gen[0] for gen in scores], marker='o', label=f'Best case', color='green')\n",
    "    plt.plot(generations, [gen[1] for gen in scores], marker='o', label=f'Second case', color='orange')\n",
    "    plt.plot(generations, [gen[2] for gen in scores], marker='o', label=f'Third case', color='deepskyblue')\n",
    "    \n",
    "    plt.xlabel('Generation Number')\n",
    "    plt.ylabel('Scores')\n",
    "    plt.title('Scores by Generation')\n",
    "    plt.legend()\n",
    "    plt.grid(True)\n",
    "    plt.show()\n"
   ],
   "id": "5327763e93b4c7a5",
   "outputs": [],
   "execution_count": 595
  },
  {
   "metadata": {
    "ExecuteTime": {
     "end_time": "2024-06-18T12:10:10.171663Z",
     "start_time": "2024-06-18T12:10:10.162665Z"
    }
   },
   "cell_type": "code",
   "source": "",
   "id": "91fa4fc45bd73245",
   "outputs": [],
   "execution_count": 595
  },
  {
   "metadata": {
    "ExecuteTime": {
     "end_time": "2024-06-18T12:10:10.203007Z",
     "start_time": "2024-06-18T12:10:10.187007Z"
    }
   },
   "cell_type": "code",
   "source": [
    "import matplotlib.pyplot as plt\n",
    "# import pandas as pd\n",
    "\n",
    "def plot_initial_world(df_orders, df_stations, base_location):\n",
    "    # Adding index as labels\n",
    "    \n",
    "    # Plot orders and stations on a map\n",
    "    plt.figure(figsize=(10, 6))\n",
    "    \n",
    "    # Plot base location\n",
    "    plt.scatter(base_location[0], base_location[1], c='blue', label='Base', s=100, marker='s')\n",
    "    plt.text(base_location[0], base_location[1], 'Base', fontsize=12, verticalalignment='bottom')\n",
    "    \n",
    "    # Plot orders\n",
    "    plt.scatter(df_orders['latitude'], df_orders['longitude'], c='red', label='Orders', s=100, marker='o')\n",
    "    for i, row in df_orders.iterrows():\n",
    "        plt.text(row['latitude'], row['longitude'], f'O{row.name}', fontsize=12, verticalalignment='bottom')\n",
    "        \n",
    "    # Plot stations\n",
    "    plt.scatter(df_stations['latitude'], df_stations['longitude'], c='green', label='Stations', s=100, marker='^')\n",
    "    for i, row in df_stations.iterrows():\n",
    "        plt.text(row['latitude'], row['longitude'], f'S{row.name}', fontsize=12, verticalalignment='bottom')\n",
    "    \n",
    "    plt.xlabel('Latitude')\n",
    "    plt.ylabel('Longitude')\n",
    "    plt.title('Map of Orders and Fuel Stations')\n",
    "    plt.legend()\n",
    "    plt.grid(True)\n",
    "    plt.show()\n"
   ],
   "id": "db0544a2fc65605b",
   "outputs": [],
   "execution_count": 596
  },
  {
   "metadata": {},
   "cell_type": "markdown",
   "source": "# PROGRAM MAIN PARAMETERS",
   "id": "431989be51052370"
  },
  {
   "metadata": {},
   "cell_type": "markdown",
   "source": "## Generate dataset",
   "id": "4bd51911f4451cb4"
  },
  {
   "metadata": {
    "ExecuteTime": {
     "end_time": "2024-06-18T12:12:42.072177Z",
     "start_time": "2024-06-18T12:12:42.060175Z"
    }
   },
   "cell_type": "code",
   "source": [
    "import numpy as np\n",
    "import pandas as pd\n",
    "\n",
    "# Assert parameters\n",
    "np.random.seed(42)\n",
    "n_orders = 30\n",
    "n_trucks = 1\n",
    "n_stations = 11\n",
    "\n",
    "# Orders: location and weight\n",
    "df_orders = pd.DataFrame({\n",
    "    \"latitude\": np.random.randn(n_orders) * 50,\n",
    "    \"longitude\": np.random.randn(n_orders) * 50,\n",
    "    \"mass\": np.random.rand(n_orders) * 10\n",
    "})\n",
    "\n",
    "# Fuel stations: location and price per liter\n",
    "df_stations = pd.DataFrame({\n",
    "    \"latitude\": np.random.randn(n_stations + 2) * 50,\n",
    "    \"longitude\": np.random.randn(n_stations + 2) * 50,\n",
    "    \"price\": np.random.rand(n_stations + 2) * 2 + 5\n",
    "})\n",
    "\n",
    "# Parameters\n",
    "fuel_consumption = lambda m: m/100  # Fuel consumption in liters per km (not 100km)\n",
    "fuel_tank_capacity = 150  # Fuel tank capacity in liters\n",
    "base_location = np.array([0, 0])  # Base location\n",
    "# average_speed = 40  # Average speed in km/h\n",
    "# driver_hourly_rate = 50  # Driver hourly rate in PLN"
   ],
   "id": "b4849631ba43f509",
   "outputs": [],
   "execution_count": 651
  },
  {
   "metadata": {
    "ExecuteTime": {
     "end_time": "2024-06-18T12:12:42.302845Z",
     "start_time": "2024-06-18T12:12:42.086174Z"
    }
   },
   "cell_type": "code",
   "source": "plot_initial_world(df_orders, df_stations, base_location)",
   "id": "10f553fea755de0f",
   "outputs": [
    {
     "data": {
      "text/plain": [
       "<Figure size 1000x600 with 1 Axes>"
      ],
      "image/png": "[encoded data removed]"
     },
     "metadata": {},
     "output_type": "display_data"
    }
   ],
   "execution_count": 652
  },
  {
   "metadata": {
    "ExecuteTime": {
     "end_time": "2024-06-18T12:12:42.318335Z",
     "start_time": "2024-06-18T12:12:42.304329Z"
    }
   },
   "cell_type": "code",
   "source": [
    "import numpy as np\n",
    "import string\n",
    "\n",
    "def generate_orders_indices(n):\n",
    "    \n",
    "    no_of_signs = int(np.log(n) / np.log(26)) + 1\n",
    "    # print(no_of_signs)\n",
    "    \n",
    "    indices = []\n",
    "    for j in range(n):\n",
    "        index_list = []\n",
    "        for i in range(no_of_signs):\n",
    "            index_list.insert(0, string.ascii_uppercase[j % 26])\n",
    "            j = j//26\n",
    "        # print(index_list)\n",
    "        indices.append(\"\".join(index_list))\n",
    "    \n",
    "    return indices\n",
    "        \n",
    "        \n",
    "\n",
    "# print(generate_orders_indeces(26))"
   ],
   "id": "db57b797ce5215a7",
   "outputs": [],
   "execution_count": 653
  },
  {
   "metadata": {
    "ExecuteTime": {
     "end_time": "2024-06-18T12:12:42.333993Z",
     "start_time": "2024-06-18T12:12:42.319335Z"
    }
   },
   "cell_type": "code",
   "source": [
    "# Preprocess orders\n",
    "df_orders.index = generate_orders_indices(len(df_orders))\n",
    "\n",
    "df_orders.head()"
   ],
   "id": "59575857ec7ff795",
   "outputs": [
    {
     "data": {
      "text/plain": [
       "     latitude  longitude      mass\n",
       "AA  24.835708 -30.085331  3.308980\n",
       "AB  -6.913215  92.613909  0.635584\n",
       "AC  32.384427  -0.674861  3.109823\n",
       "AD  76.151493 -52.885546  3.251833\n",
       "AE -11.707669  41.127246  7.296062"
      ],
      "text/html": [
       "<div>\n",
       "<style scoped>\n",
       "    .dataframe tbody tr th:only-of-type {\n",
       "        vertical-align: middle;\n",
       "    }\n",
       "\n",
       "    .dataframe tbody tr th {\n",
       "        vertical-align: top;\n",
       "    }\n",
       "\n",
       "    .dataframe thead th {\n",
       "        text-align: right;\n",
       "    }\n",
       "</style>\n",
       "<table border=\"1\" class=\"dataframe\">\n",
       "  <thead>\n",
       "    <tr style=\"text-align: right;\">\n",
       "      <th></th>\n",
       "      <th>latitude</th>\n",
       "      <th>longitude</th>\n",
       "      <th>mass</th>\n",
       "    </tr>\n",
       "  </thead>\n",
       "  <tbody>\n",
       "    <tr>\n",
       "      <th>AA</th>\n",
       "      <td>24.835708</td>\n",
       "      <td>-30.085331</td>\n",
       "      <td>3.308980</td>\n",
       "    </tr>\n",
       "    <tr>\n",
       "      <th>AB</th>\n",
       "      <td>-6.913215</td>\n",
       "      <td>92.613909</td>\n",
       "      <td>0.635584</td>\n",
       "    </tr>\n",
       "    <tr>\n",
       "      <th>AC</th>\n",
       "      <td>32.384427</td>\n",
       "      <td>-0.674861</td>\n",
       "      <td>3.109823</td>\n",
       "    </tr>\n",
       "    <tr>\n",
       "      <th>AD</th>\n",
       "      <td>76.151493</td>\n",
       "      <td>-52.885546</td>\n",
       "      <td>3.251833</td>\n",
       "    </tr>\n",
       "    <tr>\n",
       "      <th>AE</th>\n",
       "      <td>-11.707669</td>\n",
       "      <td>41.127246</td>\n",
       "      <td>7.296062</td>\n",
       "    </tr>\n",
       "  </tbody>\n",
       "</table>\n",
       "</div>"
      ]
     },
     "execution_count": 654,
     "metadata": {},
     "output_type": "execute_result"
    }
   ],
   "execution_count": 654
  },
  {
   "metadata": {
    "ExecuteTime": {
     "end_time": "2024-06-18T12:12:42.349746Z",
     "start_time": "2024-06-18T12:12:42.335484Z"
    }
   },
   "cell_type": "code",
   "source": [
    "# Preprocess stations\n",
    "df_stations.loc[0] = {'StationID': int(0), 'Latitude': float(0.0), 'Longitude': float(0.0)}\n",
    "df_stations.loc[1] = {'StationID': 0, 'Latitude': 0.0, 'Longitude': 0.0}\n",
    "\n",
    "df_stations.head()"
   ],
   "id": "1bc745cdcdde66ba",
   "outputs": [
    {
     "data": {
      "text/plain": [
       "    latitude  longitude     price\n",
       "0        NaN        NaN       NaN\n",
       "1        NaN        NaN       NaN\n",
       "2 -26.488010 -21.032266  6.219129\n",
       "3  25.663372 -17.135726  6.005358\n",
       "4   4.853877 -40.113863  5.102958"
      ],
      "text/html": [
       "<div>\n",
       "<style scoped>\n",
       "    .dataframe tbody tr th:only-of-type {\n",
       "        vertical-align: middle;\n",
       "    }\n",
       "\n",
       "    .dataframe tbody tr th {\n",
       "        vertical-align: top;\n",
       "    }\n",
       "\n",
       "    .dataframe thead th {\n",
       "        text-align: right;\n",
       "    }\n",
       "</style>\n",
       "<table border=\"1\" class=\"dataframe\">\n",
       "  <thead>\n",
       "    <tr style=\"text-align: right;\">\n",
       "      <th></th>\n",
       "      <th>latitude</th>\n",
       "      <th>longitude</th>\n",
       "      <th>price</th>\n",
       "    </tr>\n",
       "  </thead>\n",
       "  <tbody>\n",
       "    <tr>\n",
       "      <th>0</th>\n",
       "      <td>NaN</td>\n",
       "      <td>NaN</td>\n",
       "      <td>NaN</td>\n",
       "    </tr>\n",
       "    <tr>\n",
       "      <th>1</th>\n",
       "      <td>NaN</td>\n",
       "      <td>NaN</td>\n",
       "      <td>NaN</td>\n",
       "    </tr>\n",
       "    <tr>\n",
       "      <th>2</th>\n",
       "      <td>-26.488010</td>\n",
       "      <td>-21.032266</td>\n",
       "      <td>6.219129</td>\n",
       "    </tr>\n",
       "    <tr>\n",
       "      <th>3</th>\n",
       "      <td>25.663372</td>\n",
       "      <td>-17.135726</td>\n",
       "      <td>6.005358</td>\n",
       "    </tr>\n",
       "    <tr>\n",
       "      <th>4</th>\n",
       "      <td>4.853877</td>\n",
       "      <td>-40.113863</td>\n",
       "      <td>5.102958</td>\n",
       "    </tr>\n",
       "  </tbody>\n",
       "</table>\n",
       "</div>"
      ]
     },
     "execution_count": 655,
     "metadata": {},
     "output_type": "execute_result"
    }
   ],
   "execution_count": 655
  },
  {
   "metadata": {
    "ExecuteTime": {
     "end_time": "2024-06-18T12:12:42.365622Z",
     "start_time": "2024-06-18T12:12:42.351747Z"
    }
   },
   "cell_type": "code",
   "source": "",
   "id": "2c78ff700b672f91",
   "outputs": [],
   "execution_count": 655
  },
  {
   "metadata": {
    "ExecuteTime": {
     "end_time": "2024-06-18T12:12:42.694243Z",
     "start_time": "2024-06-18T12:12:42.366623Z"
    }
   },
   "cell_type": "code",
   "source": [
    "population_size = 10\n",
    "max_generations = 100\n",
    "\n",
    "start_population = generate_starting_population(df_stations, df_orders, population_size, print_results=False)\n",
    "\n",
    "final_population, sample_history = GA_prob(start_population, max_generations, population_size=population_size, print_results=True)\n",
    "# GA_tournament(start_population, max_generations)\n"
   ],
   "id": "713ce8795609b376",
   "outputs": [
    {
     "name": "stdout",
     "output_type": "stream",
     "text": [
      "GENERATION: 0\n",
      "[0, 'AP', 1, 'AF', 1, 'AV', 1, 'AS', 5, 'AE', 3, 'AO', 1, 'AD', 1, 'AG', 2, 'AI', 1, 'BA', 1, 'AQ', 5, 'BC', 10, 'AB', 4, 'BB', 4, 'AX', 3, 'AZ', 1, 'AR', 5, 'AM', 9, 'BD', 10, 'AA', 1, 'AW', 1, 'AJ', 3, 'AC', 4, 'AL', 1, 'AU', 7, 'AH', 5, 'AY', 1, 'AK', 7, 'AN', 1, 'AT', 0] results: 25678.094233139807\n",
      "[0, 'AJ', 1, 'AK', 8, 'AM', 1, 'AD', 9, 'AV', 1, 'AR', 1, 'AI', 10, 'AO', 6, 'AX', 1, 'AA', 4, 'AF', 2, 'BB', 6, 'AP', 7, 'AB', 3, 'AS', 9, 'AQ', 2, 'BC', 1, 'BA', 1, 'AY', 1, 'AW', 10, 'AN', 12, 'AU', 3, 'AG', 9, 'AT', 1, 'AH', 4, 'AL', 1, 'BD', 2, 'AE', 1, 'AC', 1, 'AZ', 0] results: 26446.828419824415\n",
      "[0, 'AO', 3, 'AB', 1, 'BC', 7, 'AW', 1, 'AD', 3, 'BD', 4, 'AR', 1, 'AF', 9, 'AC', 1, 'BA', 1, 'AS', 1, 'BB', 2, 'AG', 9, 'AH', 12, 'AP', 1, 'AE', 6, 'AX', 1, 'AT', 1, 'AQ', 1, 'AV', 1, 'AK', 1, 'AY', 11, 'AM', 1, 'AZ', 1, 'AL', 1, 'AJ', 1, 'AU', 1, 'AA', 1, 'AN', 5, 'AI', 0] results: 28265.195402992755\n",
      "GENERATION: 1\n",
      "[0, 'AP', 1, 'AF', 1, 'AV', 1, 'AS', 5, 'AE', 3, 'AO', 1, 'AD', 1, 'AG', 2, 'AI', 1, 'BA', 1, 'AQ', 5, 'BC', 10, 'AB', 4, 'BB', 4, 'AX', 3, 'AZ', 1, 'AR', 5, 'AM', 9, 'BD', 10, 'AA', 1, 'AW', 1, 'AJ', 3, 'AC', 4, 'AL', 1, 'AU', 7, 'AH', 5, 'AY', 1, 'AK', 7, 'AN', 1, 'AT', 0] results: 25678.094233139807\n",
      "[0, 'AJ', 1, 'AK', 8, 'AM', 1, 'AD', 9, 'AV', 1, 'AR', 1, 'AI', 10, 'AO', 6, 'AX', 1, 'AA', 4, 'AF', 2, 'BB', 6, 'AP', 7, 'AB', 3, 'AS', 9, 'AQ', 2, 'BC', 1, 'BA', 1, 'AY', 1, 'AW', 10, 'AN', 12, 'AU', 3, 'AG', 9, 'AT', 1, 'AH', 4, 'AL', 1, 'BD', 2, 'AE', 1, 'AC', 1, 'AZ', 0] results: 26446.828419824415\n",
      "[0, 'AL', 1, 'AV', 5, 'AE', 7, 'AP', 1, 'BD', 1, 'AM', 6, 'AX', 3, 'AC', 2, 'BB', 1, 'AD', 10, 'AZ', 4, 'AK', 1, 'AR', 3, 'AB', 5, 'AS', 1, 'AQ', 1, 'BC', 1, 'BA', 1, 'AY', 7, 'AW', 2, 'AN', 2, 'AU', 4, 'AG', 1, 'AT', 1, 'AH', 3, 'AJ', 8, 'AI', 2, 'AO', 5, 'AF', 1, 'AA', 0] results: 27965.57018217358\n",
      "GENERATION: 2\n",
      "[0, 'AP', 1, 'AF', 1, 'AV', 1, 'AS', 5, 'AE', 3, 'AO', 1, 'AD', 1, 'AG', 2, 'AI', 1, 'BA', 1, 'AQ', 5, 'BC', 10, 'AB', 4, 'BB', 4, 'AX', 3, 'AZ', 1, 'AR', 5, 'AM', 9, 'BD', 10, 'AA', 1, 'AW', 1, 'AJ', 3, 'AC', 4, 'AL', 1, 'AU', 7, 'AH', 5, 'AY', 1, 'AK', 7, 'AN', 1, 'AT', 0] results: 25678.094233139807\n",
      "[0, 'AJ', 1, 'AK', 8, 'AM', 1, 'AD', 9, 'AV', 1, 'AR', 1, 'AI', 10, 'AO', 6, 'AX', 1, 'AA', 4, 'AF', 2, 'BB', 6, 'AP', 7, 'AB', 3, 'AS', 9, 'AQ', 2, 'BC', 1, 'BA', 1, 'AY', 1, 'AW', 10, 'AN', 12, 'AU', 3, 'AG', 9, 'AT', 1, 'AH', 4, 'AL', 1, 'BD', 2, 'AE', 1, 'AC', 1, 'AZ', 0] results: 26446.828419824415\n",
      "[0, 'BC', 1, 'AV', 5, 'AB', 7, 'AP', 1, 'AQ', 1, 'AD', 6, 'AX', 3, 'AC', 2, 'BB', 1, 'AE', 10, 'AS', 4, 'AF', 1, 'AK', 3, 'AM', 5, 'AZ', 1, 'BD', 1, 'AL', 1, 'BA', 1, 'AY', 7, 'AW', 2, 'AN', 2, 'AU', 4, 'AG', 1, 'AT', 1, 'AH', 3, 'AJ', 8, 'AI', 2, 'AO', 5, 'AR', 1, 'AA', 0] results: 26576.90525304614\n",
      "GENERATION: 3\n",
      "[0, 'AP', 1, 'AF', 1, 'AV', 1, 'AS', 5, 'AE', 3, 'AO', 1, 'AD', 1, 'AG', 2, 'AI', 1, 'BA', 1, 'AQ', 5, 'BC', 10, 'AB', 4, 'BB', 4, 'AX', 3, 'AZ', 1, 'AR', 5, 'AM', 9, 'BD', 10, 'AA', 1, 'AW', 1, 'AJ', 3, 'AC', 4, 'AL', 1, 'AU', 7, 'AH', 5, 'AY', 1, 'AK', 7, 'AN', 1, 'AT', 0] results: 25678.094233139807\n",
      "[0, 'AJ', 1, 'AK', 8, 'AM', 1, 'AD', 9, 'AV', 1, 'AR', 1, 'AI', 10, 'AO', 6, 'AX', 1, 'AA', 4, 'AF', 2, 'BB', 6, 'AP', 7, 'AB', 3, 'AS', 9, 'AQ', 2, 'BC', 1, 'BA', 1, 'AY', 1, 'AW', 10, 'AN', 12, 'AU', 3, 'AG', 9, 'AT', 1, 'AH', 4, 'AL', 1, 'BD', 2, 'AE', 1, 'AC', 1, 'AZ', 0] results: 26446.828419824415\n",
      "[0, 'BC', 1, 'AV', 5, 'AB', 7, 'AP', 1, 'AQ', 1, 'AD', 6, 'AX', 3, 'AC', 2, 'BB', 1, 'AE', 10, 'AS', 4, 'AF', 1, 'AK', 3, 'AM', 5, 'AZ', 1, 'BD', 1, 'AL', 1, 'BA', 1, 'AY', 7, 'AW', 2, 'AN', 2, 'AU', 4, 'AG', 1, 'AT', 1, 'AH', 3, 'AJ', 8, 'AI', 2, 'AO', 5, 'AR', 1, 'AA', 0] results: 26576.90525304614\n",
      "GENERATION: 4\n",
      "[0, 'AP', 1, 'AF', 1, 'AV', 1, 'AS', 5, 'AE', 3, 'AO', 1, 'AD', 1, 'AG', 2, 'AI', 1, 'BA', 1, 'AQ', 5, 'BC', 10, 'AB', 4, 'BB', 4, 'AX', 3, 'AZ', 1, 'AR', 5, 'AM', 9, 'BD', 10, 'AA', 1, 'AW', 1, 'AJ', 3, 'AC', 4, 'AL', 1, 'AU', 7, 'AH', 5, 'AY', 1, 'AK', 7, 'AN', 1, 'AT', 0] results: 25678.094233139807\n",
      "[0, 'AJ', 1, 'AK', 8, 'AM', 1, 'AD', 9, 'AV', 1, 'AR', 1, 'AI', 10, 'AO', 6, 'AX', 1, 'AA', 4, 'AF', 2, 'BB', 6, 'AP', 7, 'AB', 3, 'AS', 9, 'AQ', 2, 'BC', 1, 'BA', 1, 'AY', 1, 'AW', 10, 'AN', 12, 'AU', 3, 'AG', 9, 'AT', 1, 'AH', 4, 'AL', 1, 'BD', 2, 'AE', 1, 'AC', 1, 'AZ', 0] results: 26446.828419824415\n",
      "[0, 'BC', 1, 'AV', 5, 'AB', 7, 'AP', 1, 'AQ', 1, 'AD', 6, 'AX', 3, 'AC', 2, 'BB', 1, 'AE', 10, 'AS', 4, 'AF', 1, 'AK', 3, 'AM', 5, 'AZ', 1, 'BD', 1, 'AL', 1, 'BA', 1, 'AY', 7, 'AW', 2, 'AN', 2, 'AU', 4, 'AG', 1, 'AT', 1, 'AH', 3, 'AJ', 8, 'AI', 2, 'AO', 5, 'AR', 1, 'AA', 0] results: 26576.90525304614\n",
      "GENERATION: 5\n",
      "[0, 'AP', 1, 'AF', 1, 'AV', 1, 'AS', 5, 'AE', 3, 'AO', 1, 'AD', 1, 'AG', 2, 'AI', 1, 'BA', 1, 'AQ', 5, 'BC', 10, 'AB', 4, 'BB', 4, 'AX', 3, 'AZ', 1, 'AR', 5, 'AM', 9, 'BD', 10, 'AA', 1, 'AW', 1, 'AJ', 3, 'AC', 4, 'AL', 1, 'AU', 7, 'AH', 5, 'AY', 1, 'AK', 7, 'AN', 1, 'AT', 0] results: 25678.094233139807\n",
      "[0, 'AJ', 1, 'AE', 8, 'AM', 1, 'AD', 9, 'AV', 1, 'AR', 1, 'AI', 10, 'AO', 6, 'AX', 1, 'AA', 4, 'AF', 2, 'BB', 6, 'AP', 7, 'AB', 3, 'AS', 9, 'AQ', 2, 'BC', 1, 'BA', 1, 'AY', 1, 'AW', 10, 'AC', 12, 'AU', 3, 'AG', 9, 'AZ', 1, 'AH', 4, 'AL', 1, 'BD', 2, 'AK', 1, 'AN', 1, 'AT', 0] results: 25769.44845786774\n",
      "[0, 'AJ', 1, 'AK', 8, 'AM', 1, 'AD', 9, 'AV', 1, 'AR', 1, 'AI', 10, 'AO', 6, 'AX', 1, 'AA', 4, 'AF', 2, 'BB', 6, 'AP', 7, 'AB', 3, 'AS', 9, 'AQ', 2, 'BC', 1, 'BA', 1, 'AY', 1, 'AW', 10, 'AC', 12, 'AU', 3, 'AG', 9, 'AZ', 1, 'AH', 4, 'AL', 1, 'BD', 2, 'AE', 1, 'AN', 1, 'AT', 0] results: 26022.572051464944\n",
      "GENERATION: 6\n",
      "[0, 'AP', 1, 'AF', 1, 'AV', 1, 'AS', 5, 'AE', 3, 'AO', 1, 'AD', 1, 'AG', 2, 'AI', 1, 'BA', 1, 'AQ', 5, 'BC', 10, 'AB', 4, 'BB', 4, 'AX', 3, 'AZ', 1, 'AR', 5, 'AM', 9, 'BD', 10, 'AA', 1, 'AW', 1, 'AJ', 3, 'AC', 4, 'AL', 1, 'AU', 7, 'AH', 5, 'AY', 1, 'AK', 7, 'AN', 1, 'AT', 0] results: 25678.094233139807\n",
      "[0, 'AJ', 1, 'AE', 8, 'AM', 1, 'AD', 9, 'AV', 1, 'AR', 1, 'AI', 10, 'AO', 6, 'AX', 1, 'AA', 4, 'AF', 2, 'BB', 6, 'AP', 7, 'AB', 3, 'AS', 9, 'AQ', 2, 'BC', 1, 'BA', 1, 'AY', 1, 'AW', 10, 'AC', 12, 'AU', 3, 'AG', 9, 'AZ', 1, 'AH', 4, 'AL', 1, 'BD', 2, 'AK', 1, 'AN', 1, 'AT', 0] results: 25769.44845786774\n",
      "[0, 'AJ', 1, 'AK', 8, 'AM', 1, 'AD', 9, 'AV', 1, 'AR', 1, 'AI', 10, 'AO', 6, 'AX', 1, 'AA', 4, 'AF', 2, 'BB', 6, 'AP', 7, 'AB', 3, 'AS', 9, 'AQ', 2, 'BC', 1, 'BA', 1, 'AY', 1, 'AW', 10, 'AC', 12, 'AU', 3, 'AG', 9, 'AZ', 1, 'AH', 4, 'AL', 1, 'BD', 2, 'AE', 1, 'AN', 1, 'AT', 0] results: 26022.572051464944\n",
      "GENERATION: 7\n",
      "[0, 'AP', 1, 'AF', 1, 'AV', 1, 'AS', 5, 'AE', 3, 'AO', 1, 'AD', 1, 'AG', 2, 'AI', 1, 'BA', 1, 'AQ', 5, 'BC', 10, 'AB', 4, 'BB', 4, 'AX', 3, 'AZ', 1, 'AR', 5, 'AM', 9, 'BD', 10, 'AA', 1, 'AW', 1, 'AJ', 3, 'AC', 4, 'AL', 1, 'AU', 7, 'AH', 5, 'AY', 1, 'AK', 7, 'AN', 1, 'AT', 0] results: 25678.094233139807\n",
      "[0, 'AJ', 1, 'AE', 8, 'AM', 1, 'AD', 9, 'AV', 1, 'AR', 1, 'AI', 10, 'AO', 6, 'AX', 1, 'AA', 4, 'AF', 2, 'BB', 6, 'AP', 7, 'AB', 3, 'AS', 9, 'AQ', 2, 'BC', 1, 'BA', 1, 'AY', 1, 'AW', 10, 'AC', 12, 'AU', 3, 'AG', 9, 'AZ', 1, 'AH', 4, 'AL', 1, 'BD', 2, 'AK', 1, 'AN', 1, 'AT', 0] results: 25769.44845786774\n",
      "[0, 'AJ', 1, 'AK', 8, 'AM', 1, 'AD', 9, 'AV', 1, 'AR', 1, 'AI', 10, 'AO', 6, 'AX', 1, 'AA', 4, 'AF', 2, 'BB', 6, 'AP', 7, 'AB', 3, 'AS', 9, 'AQ', 2, 'BC', 1, 'BA', 1, 'AY', 1, 'AW', 10, 'AC', 12, 'AU', 3, 'AG', 9, 'AZ', 1, 'AH', 4, 'AL', 1, 'BD', 2, 'AE', 1, 'AN', 1, 'AT', 0] results: 26022.572051464944\n",
      "GENERATION: 8\n",
      "[0, 'AP', 1, 'AF', 1, 'AV', 1, 'AS', 5, 'AE', 3, 'AO', 1, 'AD', 1, 'AG', 2, 'AI', 1, 'BA', 1, 'AQ', 5, 'BC', 10, 'AB', 4, 'BB', 4, 'AX', 3, 'AZ', 1, 'AR', 5, 'AM', 9, 'BD', 10, 'AA', 1, 'AW', 1, 'AJ', 3, 'AC', 4, 'AL', 1, 'AU', 7, 'AH', 5, 'AY', 1, 'AK', 7, 'AN', 1, 'AT', 0] results: 25678.094233139807\n",
      "[0, 'AJ', 1, 'AE', 8, 'AM', 1, 'AD', 9, 'AV', 1, 'AR', 1, 'AI', 10, 'AO', 6, 'AX', 1, 'AA', 4, 'AF', 2, 'BB', 6, 'AP', 7, 'AB', 3, 'AS', 9, 'AQ', 2, 'BC', 1, 'BA', 1, 'AY', 1, 'AW', 10, 'AC', 12, 'AU', 3, 'AG', 9, 'AZ', 1, 'AH', 4, 'AL', 1, 'BD', 2, 'AK', 1, 'AN', 1, 'AT', 0] results: 25769.44845786774\n",
      "[0, 'AJ', 1, 'AK', 8, 'AM', 1, 'AD', 9, 'AV', 1, 'AR', 1, 'AI', 10, 'AO', 6, 'AX', 1, 'AA', 4, 'AF', 2, 'BB', 6, 'AP', 7, 'AB', 3, 'AS', 9, 'AQ', 2, 'BC', 1, 'BA', 1, 'AY', 1, 'AW', 10, 'AC', 12, 'AU', 3, 'AG', 9, 'AZ', 1, 'AH', 4, 'AL', 1, 'BD', 2, 'AE', 1, 'AN', 1, 'AT', 0] results: 26022.572051464944\n",
      "GENERATION: 9\n",
      "[0, 'AP', 1, 'AF', 1, 'AV', 1, 'AS', 5, 'AE', 3, 'AO', 1, 'AD', 1, 'AG', 2, 'AI', 1, 'BA', 1, 'AQ', 5, 'BC', 10, 'AB', 4, 'BB', 4, 'AX', 3, 'AZ', 1, 'AR', 5, 'AM', 9, 'BD', 10, 'AA', 1, 'AW', 1, 'AJ', 3, 'AC', 4, 'AL', 1, 'AU', 7, 'AH', 5, 'AY', 1, 'AK', 7, 'AN', 1, 'AT', 0] results: 25678.094233139807\n",
      "[0, 'AJ', 1, 'AE', 8, 'AM', 1, 'AD', 9, 'AV', 1, 'AR', 1, 'AI', 10, 'AO', 6, 'AX', 1, 'AA', 4, 'AF', 2, 'BB', 6, 'AP', 7, 'AB', 3, 'AS', 9, 'AQ', 2, 'BC', 1, 'BA', 1, 'AY', 1, 'AW', 10, 'AC', 12, 'AU', 3, 'AG', 9, 'AZ', 1, 'AH', 4, 'AL', 1, 'BD', 2, 'AK', 1, 'AN', 1, 'AT', 0] results: 25769.44845786774\n",
      "[0, 'AJ', 1, 'AK', 8, 'AM', 1, 'AD', 9, 'AV', 1, 'AR', 1, 'AI', 10, 'AO', 6, 'AX', 1, 'AA', 4, 'AF', 2, 'BB', 6, 'AP', 7, 'AB', 3, 'AS', 9, 'AQ', 2, 'BC', 1, 'BA', 1, 'AY', 1, 'AW', 10, 'AC', 12, 'AU', 3, 'AG', 9, 'AZ', 1, 'AH', 4, 'AL', 1, 'BD', 2, 'AE', 1, 'AN', 1, 'AT', 0] results: 26022.572051464944\n",
      "GENERATION: 10\n",
      "[0, 'AP', 1, 'AF', 1, 'AV', 1, 'AS', 5, 'AE', 3, 'AO', 1, 'AD', 1, 'AG', 2, 'AI', 1, 'BA', 1, 'AQ', 5, 'BC', 10, 'AB', 4, 'BB', 4, 'AX', 3, 'AZ', 1, 'AR', 5, 'AM', 9, 'BD', 10, 'AA', 1, 'AW', 1, 'AJ', 3, 'AC', 4, 'AL', 1, 'AU', 7, 'AH', 5, 'AY', 1, 'AK', 7, 'AN', 1, 'AT', 0] results: 25678.094233139807\n",
      "[0, 'AJ', 1, 'AK', 8, 'AM', 1, 'AD', 9, 'AV', 1, 'AR', 1, 'AI', 10, 'AO', 6, 'AX', 1, 'AA', 4, 'AF', 2, 'BB', 6, 'AP', 7, 'AB', 3, 'AS', 9, 'AQ', 2, 'BC', 1, 'BA', 1, 'AY', 1, 'AW', 10, 'AC', 12, 'AU', 3, 'AG', 9, 'AZ', 1, 'AH', 4, 'AL', 1, 'BD', 2, 'AE', 1, 'AN', 1, 'AT', 0] results: 26022.572051464944\n",
      "[0, 'AJ', 1, 'AK', 8, 'AM', 1, 'AD', 9, 'AV', 1, 'AR', 1, 'AI', 10, 'AO', 6, 'AX', 1, 'AA', 4, 'AF', 2, 'BB', 6, 'AP', 7, 'AB', 3, 'AS', 9, 'AQ', 2, 'BC', 1, 'BA', 1, 'AY', 1, 'AW', 10, 'AC', 12, 'AU', 3, 'AG', 9, 'AZ', 1, 'AH', 4, 'AL', 1, 'BD', 2, 'AE', 1, 'AN', 1, 'AT', 0] results: 26022.572051464944\n",
      "GENERATION: 11\n",
      "[0, 'AJ', 1, 'AK', 8, 'AM', 1, 'AD', 9, 'AV', 1, 'AR', 1, 'AI', 10, 'AO', 6, 'AX', 1, 'AA', 4, 'AF', 2, 'BB', 6, 'AP', 7, 'AB', 3, 'AS', 9, 'AQ', 2, 'BC', 1, 'BA', 1, 'AY', 1, 'AW', 10, 'AC', 12, 'AU', 3, 'AG', 9, 'AT', 1, 'AH', 4, 'AL', 1, 'BD', 2, 'AE', 1, 'AN', 1, 'AZ', 0] results: 25332.9905987709\n",
      "[0, 'AT', 1, 'AF', 8, 'AV', 1, 'AS', 9, 'AE', 1, 'AO', 1, 'AD', 10, 'AG', 6, 'AI', 1, 'BA', 4, 'AQ', 2, 'BC', 6, 'AB', 7, 'BB', 3, 'AX', 9, 'AZ', 2, 'AR', 1, 'AM', 1, 'BD', 1, 'AA', 10, 'AW', 12, 'AJ', 3, 'AC', 9, 'AL', 1, 'AU', 4, 'AH', 1, 'AY', 2, 'AK', 1, 'AP', 1, 'AN', 0] results: 25625.05840010023\n",
      "[0, 'AP', 1, 'AF', 1, 'AV', 1, 'AS', 5, 'AE', 3, 'AO', 1, 'AD', 1, 'AG', 2, 'AI', 1, 'BA', 1, 'AQ', 5, 'BC', 10, 'AB', 4, 'BB', 4, 'AX', 3, 'AZ', 1, 'AR', 5, 'AM', 9, 'BD', 10, 'AA', 1, 'AW', 1, 'AJ', 3, 'AC', 4, 'AL', 1, 'AU', 7, 'AH', 5, 'AY', 1, 'AK', 7, 'AN', 1, 'AT', 0] results: 25678.094233139807\n",
      "GENERATION: 12\n",
      "[0, 'AJ', 1, 'AK', 8, 'AM', 1, 'AD', 9, 'AV', 1, 'AR', 1, 'AI', 10, 'AO', 6, 'AX', 1, 'AA', 4, 'AF', 2, 'BB', 6, 'AP', 7, 'AB', 3, 'AS', 9, 'AQ', 2, 'BC', 1, 'BA', 1, 'AY', 1, 'AW', 10, 'AC', 12, 'AU', 3, 'AG', 9, 'AT', 1, 'AH', 4, 'AL', 1, 'BD', 2, 'AE', 1, 'AN', 1, 'AZ', 0] results: 25332.9905987709\n",
      "[0, 'AT', 1, 'AF', 8, 'AV', 1, 'AS', 9, 'AE', 1, 'AO', 1, 'AD', 10, 'AG', 6, 'AI', 1, 'BA', 4, 'AQ', 2, 'BC', 6, 'AB', 7, 'BB', 3, 'AX', 9, 'AZ', 2, 'AR', 1, 'AM', 1, 'BD', 1, 'AA', 10, 'AW', 12, 'AJ', 3, 'AC', 9, 'AL', 1, 'AU', 4, 'AH', 1, 'AY', 2, 'AK', 1, 'AP', 1, 'AN', 0] results: 25625.05840010023\n",
      "[0, 'AT', 1, 'AF', 8, 'AV', 1, 'AS', 9, 'AE', 1, 'AO', 1, 'AD', 10, 'AG', 6, 'AI', 1, 'BA', 4, 'AQ', 2, 'BC', 6, 'AB', 7, 'BB', 3, 'AX', 9, 'AZ', 2, 'AR', 1, 'AM', 1, 'BD', 1, 'AA', 10, 'AW', 12, 'AJ', 3, 'AC', 9, 'AL', 1, 'AU', 4, 'AH', 1, 'AY', 2, 'AK', 1, 'AP', 1, 'AN', 0] results: 25625.05840010023\n",
      "GENERATION: 13\n",
      "[0, 'AU', 1, 'AF', 8, 'AV', 1, 'AS', 9, 'AE', 1, 'AO', 1, 'AD', 10, 'AG', 6, 'AI', 1, 'BA', 4, 'AQ', 2, 'BC', 6, 'AB', 7, 'BB', 3, 'AX', 9, 'AZ', 2, 'AR', 1, 'AM', 1, 'BD', 1, 'AA', 10, 'AW', 12, 'AJ', 3, 'AC', 9, 'AT', 1, 'AH', 4, 'AL', 1, 'AY', 2, 'AK', 1, 'AP', 1, 'AN', 0] results: 21940.38143224747\n",
      "[0, 'AJ', 1, 'AK', 8, 'AM', 1, 'AD', 9, 'AV', 1, 'AR', 1, 'AI', 10, 'AO', 6, 'AX', 1, 'AA', 4, 'AF', 2, 'BB', 6, 'AP', 7, 'AB', 3, 'AS', 9, 'AQ', 2, 'BC', 1, 'BA', 1, 'AY', 1, 'AW', 10, 'AC', 12, 'AU', 3, 'AG', 9, 'AT', 1, 'AH', 4, 'AL', 1, 'BD', 2, 'AE', 1, 'AN', 1, 'AZ', 0] results: 25332.9905987709\n",
      "[0, 'AT', 1, 'AF', 8, 'AV', 1, 'AS', 9, 'AE', 1, 'AO', 1, 'AD', 10, 'AG', 6, 'AI', 1, 'BA', 4, 'AQ', 2, 'BC', 6, 'AB', 7, 'BB', 3, 'AX', 9, 'AZ', 2, 'AR', 1, 'AM', 1, 'BD', 1, 'AA', 10, 'AW', 12, 'AJ', 3, 'AC', 9, 'AL', 1, 'AU', 4, 'AH', 1, 'AY', 2, 'AK', 1, 'AP', 1, 'AN', 0] results: 25625.05840010023\n",
      "GENERATION: 14\n",
      "[0, 'AU', 1, 'AF', 8, 'AV', 1, 'AS', 9, 'AE', 1, 'AO', 1, 'AD', 10, 'AG', 6, 'AI', 1, 'BA', 4, 'AQ', 2, 'BC', 6, 'AB', 7, 'BB', 3, 'AX', 9, 'AZ', 2, 'AR', 1, 'AM', 1, 'BD', 1, 'AA', 10, 'AW', 12, 'AJ', 3, 'AC', 9, 'AT', 1, 'AH', 4, 'AL', 1, 'AY', 2, 'AK', 1, 'AP', 1, 'AN', 0] results: 21940.38143224747\n",
      "[0, 'AU', 1, 'AF', 8, 'AV', 1, 'AS', 9, 'AE', 1, 'AO', 1, 'AD', 10, 'AG', 6, 'AI', 1, 'BA', 4, 'AQ', 2, 'BC', 6, 'AB', 7, 'BB', 3, 'AX', 9, 'AZ', 2, 'AR', 1, 'AM', 1, 'BD', 1, 'AA', 10, 'AW', 12, 'AJ', 3, 'AC', 9, 'AT', 1, 'AH', 4, 'AL', 1, 'AY', 2, 'AK', 1, 'AP', 1, 'AN', 0] results: 21940.38143224747\n",
      "[0, 'AU', 1, 'AF', 8, 'AV', 1, 'AS', 9, 'AE', 1, 'AO', 1, 'AD', 10, 'AG', 6, 'AI', 1, 'BA', 4, 'AQ', 2, 'BC', 6, 'AB', 7, 'BB', 3, 'AX', 9, 'AZ', 2, 'AR', 1, 'AM', 1, 'BD', 1, 'AA', 10, 'AW', 12, 'AJ', 3, 'AC', 9, 'AT', 1, 'AH', 4, 'AL', 1, 'AY', 2, 'AK', 1, 'AP', 1, 'AN', 0] results: 21940.38143224747\n",
      "FINAL GENERATION\n",
      "[0, 'AU', 1, 'AF', 8, 'AV', 1, 'AS', 9, 'AE', 1, 'AO', 1, 'AD', 10, 'AG', 6, 'AI', 1, 'BA', 4, 'AQ', 2, 'BC', 6, 'AB', 7, 'BB', 3, 'AX', 9, 'AZ', 2, 'AR', 1, 'AM', 1, 'BD', 1, 'AA', 10, 'AW', 12, 'AJ', 3, 'AC', 9, 'AT', 1, 'AH', 4, 'AL', 1, 'AY', 2, 'AK', 1, 'AP', 1, 'AN', 0] results: 21940.38143224747\n",
      "[0, 'AU', 1, 'AF', 8, 'AV', 1, 'AS', 9, 'AE', 1, 'AO', 1, 'AD', 10, 'AG', 6, 'AI', 1, 'BA', 4, 'AQ', 2, 'BC', 6, 'AB', 7, 'BB', 3, 'AX', 9, 'AZ', 2, 'AR', 1, 'AM', 1, 'BD', 1, 'AA', 10, 'AW', 12, 'AJ', 3, 'AC', 9, 'AT', 1, 'AH', 4, 'AL', 1, 'AY', 2, 'AK', 1, 'AP', 1, 'AN', 0] results: 21940.38143224747\n",
      "[0, 'AU', 1, 'AF', 8, 'AV', 1, 'AS', 9, 'AE', 1, 'AO', 1, 'AD', 10, 'AG', 6, 'AI', 1, 'BA', 4, 'AQ', 2, 'BC', 6, 'AB', 7, 'BB', 3, 'AX', 9, 'AZ', 2, 'AR', 1, 'AM', 1, 'BD', 1, 'AA', 10, 'AW', 12, 'AJ', 3, 'AC', 9, 'AT', 1, 'AH', 4, 'AL', 1, 'AY', 2, 'AK', 1, 'AP', 1, 'AN', 0] results: 21940.38143224747\n"
     ]
    }
   ],
   "execution_count": 656
  },
  {
   "metadata": {
    "ExecuteTime": {
     "end_time": "2024-06-18T12:12:42.709242Z",
     "start_time": "2024-06-18T12:12:42.695245Z"
    }
   },
   "cell_type": "code",
   "source": "",
   "id": "5e7e5877bc36c5c3",
   "outputs": [],
   "execution_count": 656
  },
  {
   "metadata": {
    "ExecuteTime": {
     "end_time": "2024-06-18T12:12:42.725112Z",
     "start_time": "2024-06-18T12:12:42.710244Z"
    }
   },
   "cell_type": "code",
   "source": "# print(sample_history)",
   "id": "11a3c5155cfe160a",
   "outputs": [],
   "execution_count": 657
  },
  {
   "metadata": {
    "ExecuteTime": {
     "end_time": "2024-06-18T12:12:42.865111Z",
     "start_time": "2024-06-18T12:12:42.726112Z"
    }
   },
   "cell_type": "code",
   "source": "plot_scores(sample_history)",
   "id": "a84450a06d53f73",
   "outputs": [
    {
     "data": {
      "text/plain": [
       "<Figure size 1000x600 with 1 Axes>"
      ],
      "image/png": "[encoded data removed]"
     },
     "metadata": {},
     "output_type": "display_data"
    }
   ],
   "execution_count": 658
  }
 ],
 "metadata": {
  "kernelspec": {
   "display_name": "Python 3",
   "language": "python",
   "name": "python3"
  },
  "language_info": {
   "codemirror_mode": {
    "name": "ipython",
    "version": 2
   },
   "file_extension": ".py",
   "mimetype": "text/x-python",
   "name": "python",
   "nbconvert_exporter": "python",
   "pygments_lexer": "ipython2",
   "version": "2.7.6"
  }
 },
 "nbformat": 4,
 "nbformat_minor": 5
}
