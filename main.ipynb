{
 "cells": [
  {
   "cell_type": "markdown",
   "source": [
    "## Wygeneruj dataset"
   ],
   "metadata": {
    "collapsed": false
   },
   "id": "29a2d8b614588978"
  },
  {
   "cell_type": "markdown",
   "source": [],
   "metadata": {
    "collapsed": false
   },
   "id": "ddcd00946d8f0412"
  },
  {
   "cell_type": "code",
   "execution_count": 63,
   "outputs": [],
   "source": [
    "import numpy as np\n",
    "import pandas as pd\n",
    "from scipy.spatial.distance import cityblock\n",
    "from itertools import permutations\n",
    "\n",
    "# Generowanie danych wejściowych\n",
    "np.random.seed(42)\n",
    "n_orders = 4\n",
    "n_trucks = 1\n",
    "n_stations = 10\n",
    "\n",
    "# Zamówienia: lokalizacja i waga\n",
    "df_orders = pd.DataFrame({\n",
    "    \"latitude\": np.random.randn(n_orders) * 50,\n",
    "    \"longitude\": np.random.randn(n_orders) * 50,\n",
    "    \"mass\": np.random.rand(n_orders) * 10\n",
    "})\n",
    "\n",
    "# Stacje benzynowe: lokalizacja i cena za litr\n",
    "df_stations = pd.DataFrame({\n",
    "    \"latitude\": np.random.randn(n_stations + 2) * 50,\n",
    "    \"longitude\": np.random.randn(n_stations + 2) * 50,\n",
    "    \"price\": np.random.rand(n_stations + 2) * 2 + 5\n",
    "})\n",
    "\n",
    "# Parametry\n",
    "fuel_consumption = lambda m: m/100  # Spalanie na 100km w zależności od masy\n",
    "fuel_tank_capacity = 150  # Pojemność baku\n",
    "base_location = np.array([0, 0])  # Lokalizacja bazy\n",
    "# average_speed = 40  # Średnia prędkość w km/h\n",
    "# driver_hourly_rate = 50  # Godzinna stawka kierowcy"
   ],
   "metadata": {
    "collapsed": false,
    "ExecuteTime": {
     "end_time": "2024-06-12T11:20:44.839018300Z",
     "start_time": "2024-06-12T11:20:44.753921300Z"
    }
   },
   "id": "initial_id"
  },
  {
   "cell_type": "code",
   "execution_count": 96,
   "outputs": [
    {
     "data": {
      "text/plain": "1.5"
     },
     "execution_count": 96,
     "metadata": {},
     "output_type": "execute_result"
    }
   ],
   "source": [
    "fuel_consumption(150)"
   ],
   "metadata": {
    "collapsed": false,
    "ExecuteTime": {
     "end_time": "2024-06-12T11:37:17.823832100Z",
     "start_time": "2024-06-12T11:37:17.714448900Z"
    }
   },
   "id": "ce1e8c23ef322d3a"
  },
  {
   "cell_type": "markdown",
   "source": [],
   "metadata": {
    "collapsed": false
   },
   "id": "a9d418d8c0d50f44"
  },
  {
   "cell_type": "code",
   "execution_count": 98,
   "outputs": [
    {
     "data": {
      "text/plain": "    latitude  longitude      mass\nA  24.835708 -11.707669  0.205845\nB  -6.913215 -11.706848  9.699099\nC  32.384427  78.960641  8.324426\nD  76.151493  38.371736  2.123391",
      "text/html": "<div>\n<style scoped>\n    .dataframe tbody tr th:only-of-type {\n        vertical-align: middle;\n    }\n\n    .dataframe tbody tr th {\n        vertical-align: top;\n    }\n\n    .dataframe thead th {\n        text-align: right;\n    }\n</style>\n<table border=\"1\" class=\"dataframe\">\n  <thead>\n    <tr style=\"text-align: right;\">\n      <th></th>\n      <th>latitude</th>\n      <th>longitude</th>\n      <th>mass</th>\n    </tr>\n  </thead>\n  <tbody>\n    <tr>\n      <th>A</th>\n      <td>24.835708</td>\n      <td>-11.707669</td>\n      <td>0.205845</td>\n    </tr>\n    <tr>\n      <th>B</th>\n      <td>-6.913215</td>\n      <td>-11.706848</td>\n      <td>9.699099</td>\n    </tr>\n    <tr>\n      <th>C</th>\n      <td>32.384427</td>\n      <td>78.960641</td>\n      <td>8.324426</td>\n    </tr>\n    <tr>\n      <th>D</th>\n      <td>76.151493</td>\n      <td>38.371736</td>\n      <td>2.123391</td>\n    </tr>\n  </tbody>\n</table>\n</div>"
     },
     "execution_count": 98,
     "metadata": {},
     "output_type": "execute_result"
    }
   ],
   "source": [
    "import string\n",
    "\n",
    "# Generate a list of letters\n",
    "letter_index = list(string.ascii_uppercase[:len(df_orders)])\n",
    "df_orders.index = letter_index\n",
    "\n",
    "# print(df_orders.loc['C'])\n",
    "\n",
    "df_orders.head()\n"
   ],
   "metadata": {
    "collapsed": false,
    "ExecuteTime": {
     "end_time": "2024-06-12T11:37:28.217623300Z",
     "start_time": "2024-06-12T11:37:28.170759200Z"
    }
   },
   "id": "c0b52467790cece6"
  },
  {
   "cell_type": "code",
   "execution_count": 100,
   "outputs": [
    {
     "data": {
      "text/plain": "-11.707668736166799"
     },
     "execution_count": 100,
     "metadata": {},
     "output_type": "execute_result"
    }
   ],
   "source": [
    "df_orders.loc['A', 'longitude']\n"
   ],
   "metadata": {
    "collapsed": false,
    "ExecuteTime": {
     "end_time": "2024-06-12T11:37:45.456541900Z",
     "start_time": "2024-06-12T11:37:45.370713200Z"
    }
   },
   "id": "c2c2ee9f77596537"
  },
  {
   "cell_type": "code",
   "execution_count": 52,
   "outputs": [
    {
     "data": {
      "text/plain": "    latitude  longitude     price\n0        NaN        NaN       NaN\n1        NaN        NaN       NaN\n2  12.098114 -27.219136  5.517560\n3 -95.664012   5.546129  6.325045\n4 -86.245892 -57.549679  5.623422",
      "text/html": "<div>\n<style scoped>\n    .dataframe tbody tr th:only-of-type {\n        vertical-align: middle;\n    }\n\n    .dataframe tbody tr th {\n        vertical-align: top;\n    }\n\n    .dataframe thead th {\n        text-align: right;\n    }\n</style>\n<table border=\"1\" class=\"dataframe\">\n  <thead>\n    <tr style=\"text-align: right;\">\n      <th></th>\n      <th>latitude</th>\n      <th>longitude</th>\n      <th>price</th>\n    </tr>\n  </thead>\n  <tbody>\n    <tr>\n      <th>0</th>\n      <td>NaN</td>\n      <td>NaN</td>\n      <td>NaN</td>\n    </tr>\n    <tr>\n      <th>1</th>\n      <td>NaN</td>\n      <td>NaN</td>\n      <td>NaN</td>\n    </tr>\n    <tr>\n      <th>2</th>\n      <td>12.098114</td>\n      <td>-27.219136</td>\n      <td>5.517560</td>\n    </tr>\n    <tr>\n      <th>3</th>\n      <td>-95.664012</td>\n      <td>5.546129</td>\n      <td>6.325045</td>\n    </tr>\n    <tr>\n      <th>4</th>\n      <td>-86.245892</td>\n      <td>-57.549679</td>\n      <td>5.623422</td>\n    </tr>\n  </tbody>\n</table>\n</div>"
     },
     "execution_count": 52,
     "metadata": {},
     "output_type": "execute_result"
    }
   ],
   "source": [
    "df_stations.loc[0] = {'StationID': int(0), 'Latitude': float(0.0), 'Longitude': float(0.0)}\n",
    "df_stations.loc[1] = {'StationID': 0, 'Latitude': 0.0, 'Longitude': 0.0}\n",
    "\n",
    "df_stations.head()"
   ],
   "metadata": {
    "collapsed": false,
    "ExecuteTime": {
     "end_time": "2024-06-12T11:15:03.796130700Z",
     "start_time": "2024-06-12T11:15:03.764885700Z"
    }
   },
   "id": "703b9c8e447697ae"
  },
  {
   "cell_type": "code",
   "execution_count": null,
   "outputs": [],
   "source": [],
   "metadata": {
    "collapsed": false
   },
   "id": "cfd389e476c2c41b"
  },
  {
   "cell_type": "markdown",
   "source": [
    "## Generate starting population"
   ],
   "metadata": {
    "collapsed": false
   },
   "id": "ac7adc95f0c8d032"
  },
  {
   "cell_type": "code",
   "execution_count": 53,
   "outputs": [
    {
     "name": "stdout",
     "output_type": "stream",
     "text": [
      "[0, 'C', 1, 'B', 9, 'A', 6, 'D', 3, 0]\n",
      "[0, 'D', 1, 'B', 3, 'C', 1, 'A', 1, 0]\n",
      "[0, 'C', 1, 'B', 1, 'A', 1, 'D', 1, 0]\n",
      "[0, 'D', 1, 'C', 1, 'B', 1, 'A', 7, 0]\n",
      "[0, 'B', 2, 'C', 6, 'A', 9, 'D', 1, 0]\n",
      "[0, 'C', 1, 'D', 1, 'B', 8, 'A', 1, 0]\n",
      "[0, 'D', 9, 'A', 1, 'C', 1, 'B', 1, 0]\n",
      "[0, 'C', 4, 'A', 6, 'D', 1, 'B', 1, 0]\n",
      "[0, 'B', 7, 'D', 8, 'A', 1, 'C', 2, 0]\n",
      "[0, 'A', 2, 'C', 1, 'D', 1, 'B', 1, 0]\n"
     ]
    }
   ],
   "source": [
    "import random\n",
    "original_list = df_orders.index.tolist()\n",
    "population = []\n",
    "\n",
    "population_size = 10\n",
    "\n",
    "for i in range(population_size):\n",
    "    sample = [0]\n",
    "    random_permutation = random.sample(original_list, len(original_list))\n",
    "    \n",
    "    for i in range(len(random_permutation)):\n",
    "        \n",
    "        sample.append(random_permutation[i])\n",
    "        \n",
    "        if random.randint(0, 1) == 1:\n",
    "            station_ID = random.randint(1, n_stations-1)\n",
    "        else:\n",
    "            station_ID = 1\n",
    "    \n",
    "        sample.append(station_ID)\n",
    "    # print(sample)\n",
    "    sample.append(0)\n",
    "    population.append(sample)\n",
    "    \n",
    "for i in population:\n",
    "    print(i)"
   ],
   "metadata": {
    "collapsed": false,
    "ExecuteTime": {
     "end_time": "2024-06-12T11:15:08.614060600Z",
     "start_time": "2024-06-12T11:15:08.569213700Z"
    }
   },
   "id": "c954e1e80411453b"
  },
  {
   "cell_type": "code",
   "execution_count": 107,
   "outputs": [
    {
     "name": "stdout",
     "output_type": "stream",
     "text": [
      "z miasta na stację - dojeżdżam na stację\n",
      "137.75351810511162\n"
     ]
    }
   ],
   "source": [
    "# Mini przykład\n",
    "a = 'A'\n",
    "b = 3\n",
    "current_mass = 0\n",
    "fuel_level = 150\n",
    "\n",
    "def evaluate_step(a, b, current_mass, fuel_level):\n",
    "\n",
    "    fuel_penalty = 1000\n",
    "    \n",
    "    step_cost = 0\n",
    "    \n",
    "    if isinstance(a, str):\n",
    "        print(\"z miasta na stację - dojeżdżam na stację\")        \n",
    "        \n",
    "        distance = (abs(df_orders.loc[a, 'longitude'] - df_stations.loc[b, 'longitude']) + \n",
    "                    abs(df_orders.loc[a, 'latitude'] - df_stations.loc[b, 'latitude']))\n",
    "        print(distance)\n",
    "\n",
    "    fuel_level = fuel_level - distance * fuel_consumption(current_mass)\n",
    "\n",
    "    else:\n",
    "        print(\"ze stacji do miasta\")\n",
    "\n",
    "\n",
    "    \n",
    "evaluate_step(a, b, current_mass, fuel_level)"
   ],
   "metadata": {
    "collapsed": false,
    "ExecuteTime": {
     "end_time": "2024-06-12T11:40:57.820416200Z",
     "start_time": "2024-06-12T11:40:57.774492600Z"
    }
   },
   "id": "6263f1cb37c327e"
  },
  {
   "cell_type": "code",
   "execution_count": null,
   "outputs": [],
   "source": [],
   "metadata": {
    "collapsed": false
   },
   "id": "13479ae884fbf5b4"
  },
  {
   "cell_type": "code",
   "execution_count": null,
   "outputs": [],
   "source": [],
   "metadata": {
    "collapsed": false
   },
   "id": "2e4598fff7c15d18"
  },
  {
   "cell_type": "code",
   "execution_count": null,
   "outputs": [],
   "source": [],
   "metadata": {
    "collapsed": false
   },
   "id": "308832851bd55c90"
  },
  {
   "cell_type": "code",
   "execution_count": null,
   "outputs": [],
   "source": [],
   "metadata": {
    "collapsed": false
   },
   "id": "4a2a9b25c97bea04"
  },
  {
   "cell_type": "code",
   "execution_count": null,
   "outputs": [],
   "source": [],
   "metadata": {
    "collapsed": false
   },
   "id": "67d21d3f3dadaa8e"
  },
  {
   "cell_type": "code",
   "execution_count": null,
   "outputs": [],
   "source": [],
   "metadata": {
    "collapsed": false
   },
   "id": "c57da85c6e76d817"
  }
 ],
 "metadata": {
  "kernelspec": {
   "display_name": "Python 3",
   "language": "python",
   "name": "python3"
  },
  "language_info": {
   "codemirror_mode": {
    "name": "ipython",
    "version": 2
   },
   "file_extension": ".py",
   "mimetype": "text/x-python",
   "name": "python",
   "nbconvert_exporter": "python",
   "pygments_lexer": "ipython2",
   "version": "2.7.6"
  }
 },
 "nbformat": 4,
 "nbformat_minor": 5
}
